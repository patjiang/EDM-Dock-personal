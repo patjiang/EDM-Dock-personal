{
 "cells": [
  {
   "cell_type": "code",
   "execution_count": 59,
   "id": "3117028a-db35-4a38-8433-99eabefd46b9",
   "metadata": {},
   "outputs": [],
   "source": [
    "import os\n",
    "os.chdir(\"/home/phjiang/edmdock-data/\")"
   ]
  },
  {
   "cell_type": "code",
   "execution_count": 60,
   "id": "7decf966-53f4-4040-85f5-7800426ce23f",
   "metadata": {},
   "outputs": [],
   "source": [
    "#os.system(\"mkdir edmdock-data-public/train\")\n",
    "#os.system(\"mkdir validate\")\n",
    "#os.system(\"mkdir core-test\")"
   ]
  },
  {
   "cell_type": "code",
   "execution_count": 61,
   "id": "69db80ef-8c21-48bc-a26d-3ba073d2fd7e",
   "metadata": {},
   "outputs": [],
   "source": [
    "import numpy as np\n",
    "pdbList = os.listdir(\"edmdock-data-public\")\n",
    "n = len(pdbList)\n",
    "mu, sigma = 1, 1/3\n",
    "s = np.random.normal(mu, sigma ,n)\n"
   ]
  },
  {
   "cell_type": "code",
   "execution_count": 66,
   "id": "88061dd1-7e9c-4783-8a09-e140a7f371e0",
   "metadata": {},
   "outputs": [
    {
     "name": "stdout",
     "output_type": "stream",
     "text": [
      "3ch6-NAP-E-1\n"
     ]
    }
   ],
   "source": [
    "print(pdbList[400])"
   ]
  },
  {
   "cell_type": "code",
   "execution_count": 82,
   "id": "4df31115-c720-4307-9297-0718d360b30f",
   "metadata": {},
   "outputs": [
    {
     "data": {
      "text/plain": [
       "0"
      ]
     },
     "execution_count": 82,
     "metadata": {},
     "output_type": "execute_result"
    }
   ],
   "source": [
    "\n",
    "#os.system(f\"mv  core-test/\")\n",
    "os.system(f\"mv \")"
   ]
  },
  {
   "cell_type": "code",
   "execution_count": 73,
   "id": "91499993-8c2d-4269-87ea-4584bf739b84",
   "metadata": {},
   "outputs": [
    {
     "name": "stdout",
     "output_type": "stream",
     "text": [
      "datasetLoader.ipynb\n",
      "edmdock-data-public\n",
      "edm-dock-dataset-public.zip\n",
      "train\n",
      "validate\n"
     ]
    },
    {
     "data": {
      "text/plain": [
       "0"
      ]
     },
     "execution_count": 73,
     "metadata": {},
     "output_type": "execute_result"
    }
   ],
   "source": [
    "os.system(\"ls\")"
   ]
  },
  {
   "cell_type": "code",
   "execution_count": 84,
   "id": "e9411b4b-418e-420c-a903-0114b5fbcb4e",
   "metadata": {},
   "outputs": [
    {
     "name": "stdout",
     "output_type": "stream",
     "text": [
      "Folders already exist, moving data...\n",
      "Validate: 28 (5.67% of total), Train: 466 (94.33 % of total), Total: 494.\n"
     ]
    }
   ],
   "source": [
    "if(os.path.isdir(\"validate\") and os.path.isdir(\"train\") and os.path.isdir(\"core-test\")):\n",
    "    print(\"Folders already exist, moving data...\")\n",
    "else:\n",
    "    os.system(\"mkdir train\")\n",
    "    os.system(\"mkdir validate\")\n",
    "    os.system(\"mkdir core-test\")\n",
    "\n",
    "validate = 0\n",
    "train = 0\n",
    "os.system(\"cd /home/phjiang/edmdock-data/\")\n",
    "for i, j in enumerate(s):\n",
    "    if(j < (mu - 1.96*sigma) or j > (mu + 1.96*sigma)):\n",
    "        validate += 1\n",
    "        os.system(f\"mv edmdock-data-public/{pdbList[i]} validate\")\n",
    "    elif(j < (mu + 1.96*sigma) and j > (mu - 1.96*sigma)):\n",
    "        train += 1\n",
    "        os.system(f\"mv edmdock-data-public/{pdbList[i]} train\")\n",
    "    #print(pdbList[i],j)\n",
    "print(f\"Validate: {validate} ({round(100* validate/n, 2)}% of total), Train: {train} ({round(100* train/n, 2)} % of total), Total: {n}.\")"
   ]
  },
  {
   "cell_type": "code",
   "execution_count": 85,
   "id": "6ed2a1ad-2483-4ab3-99f3-4269ab971038",
   "metadata": {},
   "outputs": [
    {
     "data": {
      "image/png": "[encoded data removed]",
      "text/plain": [
       "<Figure size 640x480 with 1 Axes>"
      ]
     },
     "metadata": {},
     "output_type": "display_data"
    }
   ],
   "source": [
    "#import matplotlib.pyplot as plt\n",
    "#count, bins, ignored = plt.hist(s, 30, density=True)\n",
    "#plt.plot(bins, 1/(sigma * np.sqrt(2 * np.pi)) *\n",
    "#               np.exp( - (bins - mu)**2 / (2 * sigma**2) ),\n",
    "#         linewidth=2, color='r')\n",
    "#plt.show()"
   ]
  },
  {
   "cell_type": "code",
   "execution_count": 93,
   "id": "97c47641-dc94-44cb-a94c-f4b2f66a34dd",
   "metadata": {},
   "outputs": [
    {
     "data": {
      "text/plain": [
       "['4mue', '3cj2-SX3-B-1', '1a4q-DPC-B-1', '4lxa', '3ci5-ATP-A-1']"
      ]
     },
     "execution_count": 93,
     "metadata": {},
     "output_type": "execute_result"
    }
   ],
   "source": [
    "import random\n",
    "\n",
    "corefrac = validate//5\n",
    "trainlist = os.listdir(\"train\")\n",
    "n = len(trainlist)\n",
    "\n",
    "i = 0\n",
    "for i in range(0,corefrac):\n",
    "    index = random.randrange(0, n - 1)\n",
    "    os.system(f\"mv train/{trainlist[index]} core-test\")\n",
    "\n",
    "os.listdir(\"core-test\")\n",
    "# do again, but make sure you redefine n each time\n",
    "#os.system(f\"mv core-test/{trainlist[index]} train\")"
   ]
  },
  {
   "cell_type": "code",
   "execution_count": 95,
   "id": "091477b9-e440-4b8b-ad24-f48c94cda934",
   "metadata": {},
   "outputs": [],
   "source": [
    "if(os.path.isdir(\"core-test\")):\n",
    "    os.system(\"mv core-test mindata\")\n",
    "if(os.path.isdir(\"train\")):\n",
    "    os.system(\"mv train mindata\")\n",
    "if(os.path.isdir(\"validate\")):\n",
    "    os.system(\"mv validate mindata\")"
   ]
  }
 ],
 "metadata": {
  "kernelspec": {
   "display_name": "Python 3 (ipykernel)",
   "language": "python",
   "name": "python3"
  },
  "language_info": {
   "codemirror_mode": {
    "name": "ipython",
    "version": 3
   },
   "file_extension": ".py",
   "mimetype": "text/x-python",
   "name": "python",
   "nbconvert_exporter": "python",
   "pygments_lexer": "ipython3",
   "version": "3.11.6"
  }
 },
 "nbformat": 4,
 "nbformat_minor": 5
}
