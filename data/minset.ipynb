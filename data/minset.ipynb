{
 "cells": [
  {
   "cell_type": "code",
   "execution_count": null,
   "id": "3117028a-db35-4a38-8433-99eabefd46b9",
   "metadata": {},
   "outputs": [],
   "source": [
    "import os\n",
    "os.chdir(\"/home/phjiang/edmdock-data/\")\n",
    "\n",
    "#Change this to the directory of your data"
   ]
  },
  {
   "cell_type": "code",
   "execution_count": null,
   "id": "69db80ef-8c21-48bc-a26d-3ba073d2fd7e",
   "metadata": {},
   "outputs": [],
   "source": [
    "import numpy as np\n",
    "pdbList = os.listdir(\"edmdock-data-public\")\n",
    "#This should be the name of the dataset;\n",
    "#for the purposes of this example, I chose 677 random files from the full 53,000 files\n",
    "n = len(pdbList)\n",
    "mu, sigma = 1, 1/3\n",
    "s = np.random.normal(mu, sigma ,n)\n"
   ]
  },
  {
   "cell_type": "code",
   "execution_count": null,
   "id": "e9411b4b-418e-420c-a903-0114b5fbcb4e",
   "metadata": {},
   "outputs": [],
   "source": [
    "if(os.path.isdir(\"validate\") and os.path.isdir(\"train\") and os.path.isdir(\"core-test\")):\n",
    "    print(\"Folders already exist, moving data...\")\n",
    "else:\n",
    "    os.system(\"mkdir train\")\n",
    "    os.system(\"mkdir validate\")\n",
    "    os.system(\"mkdir core-test\")\n",
    "\n",
    "validate = 0\n",
    "train = 0\n",
    "os.system(\"cd /home/phjiang/edmdock-data/\")\n",
    "for i, j in enumerate(s):\n",
    "    if(j < (mu - 1.96*sigma) or j > (mu + 1.96*sigma)):\n",
    "        validate += 1\n",
    "        os.system(f\"mv edmdock-data-public/{pdbList[i]} validate\")\n",
    "    elif(j < (mu + 1.96*sigma) and j > (mu - 1.96*sigma)):\n",
    "        train += 1\n",
    "        os.system(f\"mv edmdock-data-public/{pdbList[i]} train\")\n",
    "    #print(pdbList[i],j)\n",
    "print(f\"Validate: {validate} ({round(100* validate/n, 2)}% of total), Train: {train} ({round(100* train/n, 2)} % of total), Total: {n}.\")"
   ]
  },
  {
   "cell_type": "code",
   "execution_count": 10,
   "id": "6ed2a1ad-2483-4ab3-99f3-4269ab971038",
   "metadata": {},
   "outputs": [],
   "source": [
    "#import matplotlib.pyplot as plt\n",
    "#count, bins, ignored = plt.hist(s, 30, density=True)\n",
    "#plt.plot(bins, 1/(sigma * np.sqrt(2 * np.pi)) *\n",
    "#               np.exp( - (bins - mu)**2 / (2 * sigma**2) ),\n",
    "#         linewidth=2, color='r')\n",
    "#plt.show()"
   ]
  },
  {
   "cell_type": "code",
   "execution_count": null,
   "id": "97c47641-dc94-44cb-a94c-f4b2f66a34dd",
   "metadata": {},
   "outputs": [],
   "source": [
    "import random\n",
    "\n",
    "corefrac = validate//5\n",
    "trainlist = os.listdir(\"train\")\n",
    "n = len(trainlist)\n",
    "\n",
    "i = 0\n",
    "for i in range(0,corefrac):\n",
    "    index = random.randrange(0, n - 1)\n",
    "    os.system(f\"mv train/{trainlist[index]} core-test\")\n",
    "\n",
    "os.listdir(\"core-test\")\n",
    "# do again, but make sure you redefine n each time\n",
    "#os.system(f\"mv core-test/{trainlist[index]} train\")"
   ]
  },
  {
   "cell_type": "code",
   "execution_count": null,
   "id": "091477b9-e440-4b8b-ad24-f48c94cda934",
   "metadata": {},
   "outputs": [],
   "source": [
    "if(os.path.isdir(\"core-test\")):\n",
    "    os.system(\"mv core-test mindata\")\n",
    "if(os.path.isdir(\"train\")):\n",
    "    os.system(\"mv train mindata\")\n",
    "if(os.path.isdir(\"validate\")):\n",
    "    os.system(\"mv validate mindata\")"
   ]
  },
  {
   "cell_type": "code",
   "execution_count": null,
   "id": "640e9ae1-662a-46f4-af2b-9735d5f4868c",
   "metadata": {},
   "outputs": [],
   "source": []
  }
 ],
 "metadata": {
  "kernelspec": {
   "display_name": "Python 3 (ipykernel)",
   "language": "python",
   "name": "python3"
  },
  "language_info": {
   "codemirror_mode": {
    "name": "ipython",
    "version": 3
   },
   "file_extension": ".py",
   "mimetype": "text/x-python",
   "name": "python",
   "nbconvert_exporter": "python",
   "pygments_lexer": "ipython3",
   "version": "3.11.6"
  }
 },
 "nbformat": 4,
 "nbformat_minor": 5
}
